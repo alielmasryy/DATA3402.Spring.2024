{
 "cells": [
  {
   "cell_type": "markdown",
   "metadata": {},
   "source": [
    "# Lab 5\n"
   ]
  },
  {
   "cell_type": "markdown",
   "metadata": {},
   "source": [
    "Matrix Representation: In this lab you will be creating a simple linear algebra system. In memory, we will represent matrices as nested python lists as we have done in lecture. \n",
    "\n",
    "1. Create a `matrix` class with the following properties:\n",
    "    * It can be initialized in 2 ways:\n",
    "        1. with arguments `n` and `m`, the size of the matrix. A newly instanciated matrix will contain all zeros.\n",
    "        2. with a list of lists of values. Note that since we are using lists of lists to implement matrices, it is possible that not all rows have the same number of columns. Test explicitly that the matrix is properly specified.\n",
    "    * Matrix instances `M` can be indexed with `M[i][j]` and `M[i,j]`.\n",
    "    * Matrix assignment works in 2 ways:\n",
    "        1. If `M_1` and `M_2` are `matrix` instances `M_1=M_2` sets the values of `M_1` to those of `M_2`, if they are the same size. Error otherwise.\n",
    "        2. In example above `M_2` can be a list of lists of correct size.\n"
   ]
  },
  {
   "cell_type": "code",
   "execution_count": 4,
   "metadata": {},
   "outputs": [],
   "source": [
    "\n",
    "def zero_matrix(m,n):\n",
    "    return [ [0 for _ in range(m)] for _ in range(n)]\n",
    "\n",
    "def is_matrix(M):\n",
    "    if isinstance(M,list):\n",
    "        row_length=len(M[0])\n",
    "        for row in M:\n",
    "            if not row_length==len(row):\n",
    "                return False\n",
    "    else:\n",
    "        False\n",
    "    return True\n",
    "        \n",
    "\n",
    "def matrix_shape(M):\n",
    "    if is_matrix(M):\n",
    "        m=len(M)\n",
    "        n=len(M[0])\n",
    "        return m,n\n",
    "    else:\n",
    "        0,0\n",
    "\n",
    "def matrix_multiply(M1,M2):\n",
    "    m1,n1=matrix_shape(M1)\n",
    "    m2,n2=matrix_shape(M2)\n",
    "    \n",
    "    if n1==m2:\n",
    "        \n",
    "        M3=zero_matrix(m1,n2)\n",
    "        \n",
    "        for i in range(m1):\n",
    "            for j in range(n2):\n",
    "                for k in range(n1):\n",
    "                    M3[i][j]+=M1[i][k]*M2[k][j]\n",
    "        return M3\n",
    "    \n",
    "    return False\n",
    "M1 =  [ [ 1, 2 ] , [ 2, 3 ] ]\n",
    "M2 =  [ [ 1, 2 ] , [ 2, 3 ] ]\n",
    "\n",
    "\n"
   ]
  },
  {
   "cell_type": "markdown",
   "metadata": {},
   "source": [
    "2. Add the following methods:\n",
    "    * `shape()`: returns a tuple `(n,m)` of the shape of the matrix.\n",
    "    * `transpose()`: returns a new matrix instance which is the transpose of the matrix.\n",
    "    * `row(n)` and `column(n)`: that return the nth row or column of the matrix M as a new appropriately shaped matrix object.\n",
    "    * `to_list()`: which returns the matrix as a list of lists.\n",
    "    *  `block(n_0,n_1,m_0,m_1)` that returns a smaller matrix located at the n_0 to n_1 columns and m_0 to m_1 rows. \n",
    "    * (Extra credit) Modify `__getitem__` implemented above to support slicing.\n",
    "        "
   ]
  },
  {
   "cell_type": "code",
   "execution_count": 17,
   "metadata": {},
   "outputs": [
    {
     "name": "stdout",
     "output_type": "stream",
     "text": [
      "2\n",
      "(2, 2)\n"
     ]
    }
   ],
   "source": [
    "class Matrix:\n",
    "    def __init__(self, *args):\n",
    "        if len(args) == 1 and isinstance(args[0], list):\n",
    "            if not self.is_matrix(args[0]):\n",
    "                raise ValueError(\"Invalid format\")\n",
    "            self.data = args[0]\n",
    "        else:\n",
    "            raise ValueError(\"Invalid initialization\")\n",
    "\n",
    "    def __getitem__(self, index):\n",
    "        return self.data[index]\n",
    "\n",
    "    def __setitem__(self, index, value):\n",
    "        self.data[index] = value\n",
    "\n",
    "    def is_matrix(self, M):\n",
    "        if isinstance(M, list):\n",
    "            row_length = len(M[0])\n",
    "            for row in M:\n",
    "                if not row_length == len(row):\n",
    "                    return False\n",
    "        else:\n",
    "            return False\n",
    "        return True\n",
    "\n",
    "    def shape(self):\n",
    "        m = len(self.data)\n",
    "        n = len(self.data[0])\n",
    "        return m, n\n",
    "\n",
    "    def __eq__(self, other):\n",
    "        if not isinstance(other, Matrix):\n",
    "            return False\n",
    "        return self.data == other.data\n",
    "\n",
    "    def __mul__(self, other):\n",
    "        if not isinstance(other, Matrix):\n",
    "            raise ValueError(\"Multiplication with non-Matrix\")\n",
    "        if self.shape()[1] != other.shape()[0]:\n",
    "            raise ValueError(\"Matrix dimensions not alignned\")\n",
    "        m1, n1 = self.shape()\n",
    "        m2, n2 = other.shape()\n",
    "        result = Matrix(m1, n2)\n",
    "        for i in range(m1):\n",
    "            for j in range(n2):\n",
    "                for k in range(n1):\n",
    "                    result[i][j] += self[i][k] * other[k][j]\n",
    "        return result\n",
    "\n",
    "m1 = Matrix([[1, 2], [2, 3]])\n",
    "m2 = Matrix([[1, 2], [2, 3]])\n",
    "\n",
    "print(m1[0][1])   \n",
    "print(m1.shape())"
   ]
  },
  {
   "cell_type": "markdown",
   "metadata": {},
   "source": [
    "3. Write functions that create special matrices (note these are standalone functions, not member functions of your `matrix` class):\n",
    "    * `constant(n,m,c)`: returns a `n` by `m` matrix filled with floats of value `c`.\n",
    "    * `zeros(n,m)` and `ones(n,m)`: return `n` by `m` matrices filled with floats of value `0` and `1`, respectively.\n",
    "    * `eye(n)`: returns the n by n identity matrix."
   ]
  },
  {
   "cell_type": "code",
   "execution_count": 24,
   "metadata": {},
   "outputs": [
    {
     "name": "stdout",
     "output_type": "stream",
     "text": [
      "[[3, 3]]\n",
      "[[0, 0]]\n",
      "[[1, 1]]\n",
      "[[1]]\n"
     ]
    }
   ],
   "source": [
    "def constant(n, m, c):\n",
    "    return [[c for _ in range(m)] for _ in range(n)]\n",
    "\n",
    "def zeros(n,m):\n",
    "    return constant(n, m, 0)\n",
    "\n",
    "def ones(n,m):\n",
    "    return constant(n, m, 1)\n",
    "\n",
    "def eye(n):\n",
    "    return[[1 if i == j else 0 for j in range(n)] for i in range(n)]\n",
    "\n",
    "print(constant(1,2,3))\n",
    "print(zeros(1,2))\n",
    "print(ones(1,2))\n",
    "print(eye(1))"
   ]
  },
  {
   "cell_type": "markdown",
   "metadata": {},
   "source": [
    "4. Add the following member functions to your class. Make sure to appropriately test the dimensions of the matrices to make sure the operations are correct.\n",
    "    * `M.scalarmul(c)`: a matrix that is scalar product $cM$, where every element of $M$ is multiplied by $c$.\n",
    "    * `M.add(N)`: adds two matrices $M$ and $N$. Don’t forget to test that the sizes of the matrices are compatible for this and all other operations.\n",
    "    * `M.sub(N)`: subtracts two matrices $M$ and $N$.\n",
    "    * `M.mat_mult(N)`: returns a matrix that is the matrix product of two matrices $M$ and $N$.\n",
    "    * `M.element_mult(N)`: returns a matrix that is the element-wise product of two matrices $M$ and $N$.\n",
    "    * `M.equals(N)`: returns true/false if $M==N$."
   ]
  },
  {
   "cell_type": "code",
   "execution_count": 29,
   "metadata": {},
   "outputs": [
    {
     "name": "stdout",
     "output_type": "stream",
     "text": [
      "[1, 2]\n",
      "[3, 4]\n"
     ]
    }
   ],
   "source": [
    "class Matrix:\n",
    "    def __init__(self, *args):\n",
    "        if len(args) == 1 and isinstance(args[0], list):\n",
    "            if not self.is_matrix(args[0]):\n",
    "                raise ValueError(\"Invalid format\")\n",
    "            self.data = args[0]\n",
    "        else:\n",
    "            raise ValueError(\"Invalid initialization\")\n",
    "\n",
    "    def __getitem__(self, index):\n",
    "        return self.data[index]\n",
    "\n",
    "    def __setitem__(self, index, value):\n",
    "        self.data[index] = value\n",
    "\n",
    "    def is_matrix(self, M):\n",
    "        if isinstance(M, list):\n",
    "            row_length = len(M[0])\n",
    "            for row in M:\n",
    "                if not row_length == len(row):\n",
    "                    return False\n",
    "        else:\n",
    "            return False\n",
    "        return True\n",
    "\n",
    "    def shape(self):\n",
    "        m = len(self.data)\n",
    "        n = len(self.data[0])\n",
    "        return m, n\n",
    "    \n",
    "    def scalarmul(self, c):\n",
    "        m, n = self.shape()\n",
    "        result = Matrix([[c * self[i][j] for j in range(n)] for i in range(m)])\n",
    "        return result\n",
    "\n",
    "    def add(self, other):\n",
    "        if self.shape() != other.shape():\n",
    "            raise ValueError(\"Matrix not compatible\")\n",
    "        m, n = self.shape()\n",
    "        result = Matrix([[self[i][j] + other[i][j] for j in range(n)] for i in range(m)])\n",
    "        return result\n",
    "\n",
    "    def sub(self, other):\n",
    "        if self.shape() != other.shape():\n",
    "            raise ValueError(\"Matrix not compatible\")\n",
    "        m, n = self.shape()\n",
    "        result = Matrix([[self[i][j] - other[i][j] for j in range(n)] for i in range(m)])\n",
    "        return result\n",
    "\n",
    "    def mat_mult(self, other):\n",
    "        if self.shape()[1] != other.shape()[0]:\n",
    "            raise ValueError(\"Matrix not compatible\")\n",
    "        m1, n1 = self.shape()\n",
    "        m2, n2 = other.shape()\n",
    "        result = Matrix([[sum(self[i][k] * other[k][j] for k in range(n1)) for j in range(n2)] for i in range(m1)])\n",
    "        return result\n",
    "\n",
    "    def element_mult(self, other):\n",
    "        if self.shape() != other.shape():\n",
    "            raise ValueError(\"Matrix not compatible\")\n",
    "        m, n = self.shape()\n",
    "        result = Matrix([[self[i][j] * other[i][j] for j in range(n)] for i in range(m)])\n",
    "        return result\n",
    "\n",
    "    def equals(self, other):\n",
    "        return self.data == other.data\n",
    "    \n",
    "M1 = Matrix([[1, 2], [3, 4]])\n",
    "M2 = Matrix([[3, 4], [5, 6]])\n",
    "\n",
    "c = 1\n",
    "result = M1.scalarmul(c)\n",
    "\n",
    "for row in result:\n",
    "    print(row)\n"
   ]
  },
  {
   "cell_type": "code",
   "execution_count": 30,
   "metadata": {},
   "outputs": [
    {
     "name": "stdout",
     "output_type": "stream",
     "text": [
      "[4, 6]\n",
      "[8, 10]\n"
     ]
    }
   ],
   "source": [
    "result = M1.add(M2)\n",
    "\n",
    "for row in result:\n",
    "    print(row)"
   ]
  },
  {
   "cell_type": "code",
   "execution_count": 31,
   "metadata": {},
   "outputs": [
    {
     "name": "stdout",
     "output_type": "stream",
     "text": [
      "[-2, -2]\n",
      "[-2, -2]\n"
     ]
    }
   ],
   "source": [
    "result = M1.sub(M2)\n",
    "\n",
    "for row in result:\n",
    "    print(row)"
   ]
  },
  {
   "cell_type": "code",
   "execution_count": 32,
   "metadata": {},
   "outputs": [
    {
     "name": "stdout",
     "output_type": "stream",
     "text": [
      "[13, 16]\n",
      "[29, 36]\n"
     ]
    }
   ],
   "source": [
    "result = M1.mat_mult(M2)\n",
    "\n",
    "for row in result:\n",
    "    print(row)"
   ]
  },
  {
   "cell_type": "code",
   "execution_count": 33,
   "metadata": {},
   "outputs": [
    {
     "name": "stdout",
     "output_type": "stream",
     "text": [
      "[3, 8]\n",
      "[15, 24]\n"
     ]
    }
   ],
   "source": [
    "result = M1.element_mult(M2)\n",
    "\n",
    "for row in result:\n",
    "    print(row)"
   ]
  },
  {
   "cell_type": "code",
   "execution_count": null,
   "metadata": {},
   "outputs": [],
   "source": []
  },
  {
   "cell_type": "markdown",
   "metadata": {},
   "source": [
    "5. Overload python operators to appropriately use your functions in 4 and allow expressions like:\n",
    "    * 2*M\n",
    "    * M*2\n",
    "    * M+N\n",
    "    * M-N\n",
    "    * M*N\n",
    "    * M==N\n",
    "    * M=N\n"
   ]
  },
  {
   "cell_type": "code",
   "execution_count": 44,
   "metadata": {},
   "outputs": [
    {
     "name": "stdout",
     "output_type": "stream",
     "text": [
      "[2, 4]\n",
      "[6, 8]\n"
     ]
    }
   ],
   "source": [
    "class Matrix:\n",
    "    def __init__(self, *args):\n",
    "        if len(args) == 1 and isinstance(args[0], list):\n",
    "            if not self.is_matrix(args[0]):\n",
    "                raise ValueError(\"Invalid format\")\n",
    "            self.data = args[0]\n",
    "        else:\n",
    "            raise ValueError(\"Cannot preform function\")\n",
    "\n",
    "    def __getitem__(self, index):\n",
    "        return self.data[index]\n",
    "\n",
    "    def __setitem__(self, index, value):\n",
    "        self.data[index] = value\n",
    "\n",
    "    def is_matrix(self, M):\n",
    "        if isinstance(M, list):\n",
    "            row_length = len(M[0])\n",
    "            for row in M:\n",
    "                if not row_length == len(row):\n",
    "                    return False\n",
    "        else:\n",
    "            return False\n",
    "        return True\n",
    "\n",
    "    def shape(self):\n",
    "        m = len(self.data)\n",
    "        n = len(self.data[0])\n",
    "        return m, n\n",
    "\n",
    "    def __eq__(self, other):\n",
    "        if not isinstance(other, Matrix):\n",
    "            return False\n",
    "        return self.data == other.data\n",
    "\n",
    "    def __mul__(self, other):\n",
    "        if isinstance(other, Matrix):\n",
    "            return self.mat_mult(other)\n",
    "        elif isinstance(other, (int, float)):\n",
    "            return self.scalarmul(other)\n",
    "        else:\n",
    "            raise ValueError(\"Cannot preform function\")\n",
    "\n",
    "    def __rmul__(self, other):\n",
    "        return self.__mul__(other)\n",
    "\n",
    "    def __add__(self, other):\n",
    "        if isinstance(other, Matrix):\n",
    "            return self.add(other)\n",
    "        else:\n",
    "            raise ValueError(\"Cannot preform function\")\n",
    "\n",
    "    def __sub__(self, other):\n",
    "        if isinstance(other, Matrix):\n",
    "            return self.sub(other)\n",
    "        else:\n",
    "            raise ValueError(\"Cannot preform function\")\n",
    "\n",
    "    def __eq__(self, other):\n",
    "        if isinstance(other, Matrix):\n",
    "            return self.equals(other)\n",
    "        else:\n",
    "            return False\n",
    "\n",
    "    def __setattr__(self, name, value):\n",
    "        if name == \"data\":\n",
    "            if not self.is_matrix(value):\n",
    "                raise ValueError(\"Cannot preform function\")\n",
    "        super().__setattr__(name, value)\n",
    "\n",
    "    def scalarmul(self, c):\n",
    "        m, n = self.shape()\n",
    "        result = Matrix([[c * self[i][j] for j in range(n)] for i in range(m)])\n",
    "        return result\n",
    "\n",
    "    def add(self, other):\n",
    "        if self.shape() != other.shape():\n",
    "            raise ValueError(\"Matrix not compatible\")\n",
    "        m, n = self.shape()\n",
    "        result = Matrix([[self[i][j] + other[i][j] for j in range(n)] for i in range(m)])\n",
    "        return result\n",
    "\n",
    "    def sub(self, other):\n",
    "        if self.shape() != other.shape():\n",
    "            raise ValueError(\"Matrix not compatible\")\n",
    "        m, n = self.shape()\n",
    "        result = Matrix([[self[i][j] - other[i][j] for j in range(n)] for i in range(m)])\n",
    "        return result\n",
    "\n",
    "    def mat_mult(self, other):\n",
    "        if self.shape()[1] != other.shape()[0]:\n",
    "            raise ValueError(\"Matrix not compatible\")\n",
    "        m1, n1 = self.shape()\n",
    "        m2, n2 = other.shape()\n",
    "        result = Matrix([[sum(self[i][k] * other[k][j] for k in range(n1)) for j in range(n2)] for i in range(m1)])\n",
    "        return result\n",
    "\n",
    "    def element_mult(self, other):\n",
    "        if self.shape() != other.shape():\n",
    "            raise ValueError(\"Matrix not compatible\")\n",
    "        m, n = self.shape()\n",
    "        result = Matrix([[self[i][j] * other[i][j] for j in range(n)] for i in range(m)])\n",
    "        return result\n",
    "\n",
    "    def equals(self, other):\n",
    "        return self.data == other.data\n",
    "\n",
    "\n",
    "M1 = Matrix([[1, 2], [3, 4]])\n",
    "M2 = Matrix([[5, 6], [7, 8]])\n",
    "\n",
    "result = 2 * M1\n",
    "for row in result:\n",
    "    print(row)"
   ]
  },
  {
   "cell_type": "code",
   "execution_count": 45,
   "metadata": {},
   "outputs": [
    {
     "name": "stdout",
     "output_type": "stream",
     "text": [
      "[2, 4]\n",
      "[6, 8]\n"
     ]
    }
   ],
   "source": [
    "result = M1 * 2\n",
    "for row in result:\n",
    "    print(row)"
   ]
  },
  {
   "cell_type": "code",
   "execution_count": 46,
   "metadata": {},
   "outputs": [
    {
     "name": "stdout",
     "output_type": "stream",
     "text": [
      "[6, 8]\n",
      "[10, 12]\n"
     ]
    }
   ],
   "source": [
    "result = M1 + M2\n",
    "for row in result:\n",
    "    print(row)"
   ]
  },
  {
   "cell_type": "markdown",
   "metadata": {},
   "source": [
    "6. Demonstrate the basic properties of matrices with your matrix class by creating two 2 by 2 example matrices using your Matrix class and illustrating the following:\n",
    "\n",
    "$$\n",
    "(AB)C=A(BC)\n",
    "$$\n",
    "$$\n",
    "A(B+C)=AB+AC\n",
    "$$\n",
    "$$\n",
    "AB\\neq BA\n",
    "$$\n",
    "$$\n",
    "AI=A\n",
    "$$"
   ]
  },
  {
   "cell_type": "code",
   "execution_count": null,
   "metadata": {},
   "outputs": [],
   "source": []
  }
 ],
 "metadata": {
  "kernelspec": {
   "display_name": "Python 3 (ipykernel)",
   "language": "python",
   "name": "python3"
  },
  "language_info": {
   "codemirror_mode": {
    "name": "ipython",
    "version": 3
   },
   "file_extension": ".py",
   "mimetype": "text/x-python",
   "name": "python",
   "nbconvert_exporter": "python",
   "pygments_lexer": "ipython3",
   "version": "3.11.4"
  }
 },
 "nbformat": 4,
 "nbformat_minor": 2
}
