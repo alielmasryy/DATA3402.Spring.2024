{
 "cells": [
  {
   "cell_type": "markdown",
   "metadata": {},
   "source": [
    "# Lab 4- Object Oriented Programming\n",
    "\n",
    "For all of the exercises below, make sure you provide tests of your solutions.\n"
   ]
  },
  {
   "cell_type": "markdown",
   "metadata": {},
   "source": [
    "1. Write a \"counter\" class that can be incremented up to a specified maximum value, will print an error if an attempt is made to increment beyond that value, and allows reseting the counter. "
   ]
  },
  {
   "cell_type": "code",
   "execution_count": 2,
   "metadata": {},
   "outputs": [
    {
     "name": "stdout",
     "output_type": "stream",
     "text": [
      "0\n",
      "1\n",
      "2\n",
      "3\n",
      "4\n",
      "The attempted incrementation surpasses the max value\n",
      "4\n",
      "The attempted incrementation surpasses the max value\n",
      "4\n",
      "The attempted incrementation surpasses the max value\n",
      "4\n",
      "The attempted incrementation surpasses the max value\n",
      "4\n",
      "The attempted incrementation surpasses the max value\n",
      "4\n"
     ]
    }
   ],
   "source": [
    "class Counter:\n",
    "    def __init__(self, max_value):\n",
    "        self.max_value = max_value\n",
    "        self.value = 0\n",
    "    def incrementor(self):\n",
    "        if self.value < self.max_value:\n",
    "            self.value+= 1\n",
    "        else:\n",
    "            print(\"The attempted incrementation surpasses the max value\")\n",
    "            \n",
    "        return self.value\n",
    "    \n",
    "    def reset(self):\n",
    "        self.value = 0\n",
    "\n",
    "        \n",
    "        \n",
    "max_ = 4\n",
    "counter = Counter(max_value=max_)\n",
    "\n",
    "print(counter.value)\n",
    "for _ in range(max_ + 5):\n",
    "    print(counter.incrementor())"
   ]
  },
  {
   "cell_type": "code",
   "execution_count": 3,
   "metadata": {},
   "outputs": [
    {
     "name": "stdout",
     "output_type": "stream",
     "text": [
      "0\n"
     ]
    }
   ],
   "source": [
    "counter.reset()\n",
    "print(counter.value)"
   ]
  },
  {
   "cell_type": "markdown",
   "metadata": {},
   "source": [
    "2. Copy and paste your solution to question 1 and modify it so that all the data held by the counter is private. Implement functions to check the value of the counter, check the maximum value, and check if the counter is at the maximum."
   ]
  },
  {
   "cell_type": "code",
   "execution_count": 4,
   "metadata": {},
   "outputs": [],
   "source": [
    "class Counter:\n",
    "    def __init__(self, max_value):\n",
    "        self.__max_value = max_value\n",
    "        self.__value = 0\n",
    "    def incrementor(self):\n",
    "        if self.__value < __max_value:\n",
    "            self.__value+= 1\n",
    "        else:\n",
    "            print(\"The attempted incrementation surpasses the max value\")\n",
    "            \n",
    "        return self.__value\n",
    "    \n",
    "    def reset(self):\n",
    "        self.__value = 0\n"
   ]
  },
  {
   "cell_type": "code",
   "execution_count": 5,
   "metadata": {},
   "outputs": [
    {
     "ename": "AttributeError",
     "evalue": "'Counter' object has no attribute 'value'",
     "output_type": "error",
     "traceback": [
      "\u001b[0;31m---------------------------------------------------------------------------\u001b[0m",
      "\u001b[0;31mAttributeError\u001b[0m                            Traceback (most recent call last)",
      "Cell \u001b[0;32mIn[5], line 4\u001b[0m\n\u001b[1;32m      1\u001b[0m max_ \u001b[38;5;241m=\u001b[39m \u001b[38;5;241m4\u001b[39m\n\u001b[1;32m      2\u001b[0m counter \u001b[38;5;241m=\u001b[39m Counter(max_value \u001b[38;5;241m=\u001b[39m max_)\n\u001b[0;32m----> 4\u001b[0m \u001b[38;5;28mprint\u001b[39m(counter\u001b[38;5;241m.\u001b[39mvalue)\n\u001b[1;32m      5\u001b[0m \u001b[38;5;28;01mfor\u001b[39;00m _ \u001b[38;5;129;01min\u001b[39;00m \u001b[38;5;28mrange\u001b[39m(max_ \u001b[38;5;241m+\u001b[39m \u001b[38;5;241m5\u001b[39m):\n\u001b[1;32m      6\u001b[0m     \u001b[38;5;28mprint\u001b[39m(counter\u001b[38;5;241m.\u001b[39mincrementor())\n",
      "\u001b[0;31mAttributeError\u001b[0m: 'Counter' object has no attribute 'value'"
     ]
    }
   ],
   "source": [
    "max_ = 4\n",
    "counter = Counter(max_value = max_)\n",
    "\n",
    "print(counter.value)\n",
    "for _ in range(max_ + 5):\n",
    "    print(counter.incrementor())"
   ]
  },
  {
   "cell_type": "markdown",
   "metadata": {},
   "source": [
    "3. Implement a class to represent a rectangle, holding the length, width, and $x$ and $y$ coordinates of a corner of the object. Implement functions that compute the area and perimeter of the rectangle. Make all data members private and privide accessors to retrieve values of data members. "
   ]
  },
  {
   "cell_type": "code",
   "execution_count": 6,
   "metadata": {},
   "outputs": [
    {
     "name": "stdout",
     "output_type": "stream",
     "text": [
      "The length is 6\n",
      "The area is 18\n",
      "The perimeter is 9\n"
     ]
    }
   ],
   "source": [
    "class Rectangle:\n",
    "    def __init__(self, length, width, x, y):\n",
    "        self.__length = length\n",
    "        self.__width = width\n",
    "        self.__x = x\n",
    "        self.__y = y\n",
    "    \n",
    "    def get_length(self):\n",
    "        return self.__length\n",
    "    \n",
    "    def get_width(self):\n",
    "        return self.__width\n",
    "    \n",
    "    def get_x(self):\n",
    "        return self.__x\n",
    "    \n",
    "    def get_y(self):\n",
    "        return self.__y\n",
    "    \n",
    "    def get_area(self):\n",
    "        return self.__length * self.__width\n",
    "    \n",
    "    def get_perimeter(self):\n",
    "        return self.__length + self.__width\n",
    "\n",
    "rectangle = Rectangle(length = 6, width = 3, x=1, y =4)\n",
    "\n",
    "print(\"The length is\", rectangle.get_length())\n",
    "print(\"The area is\", rectangle.get_area())\n",
    "print(\"The perimeter is\", rectangle.get_perimeter())\n",
    "    "
   ]
  },
  {
   "cell_type": "code",
   "execution_count": null,
   "metadata": {},
   "outputs": [],
   "source": []
  },
  {
   "cell_type": "markdown",
   "metadata": {},
   "source": [
    "4. Implement a class to represent a circle, holding the radius and $x$ and $y$ coordinates of center of the object. Implement functions that compute the area and perimeter of the rectangle. Make all data members private and privide accessors to retrieve values of data members. "
   ]
  },
  {
   "cell_type": "code",
   "execution_count": 13,
   "metadata": {},
   "outputs": [
    {
     "name": "stdout",
     "output_type": "stream",
     "text": [
      "Radius: 3\n",
      "Area: 28.26\n",
      "Perimeter: 18.84\n"
     ]
    }
   ],
   "source": [
    "class Circle:\n",
    "    def __init__(self, radius,x, y):\n",
    "        self.__radius = radius\n",
    "        self.__x = x\n",
    "        self.__y = y\n",
    "    \n",
    "    def get_radius(self):\n",
    "        return self.__radius\n",
    "    \n",
    "    def get_x(self):\n",
    "        return self.__x\n",
    "    \n",
    "    def get_y(self):\n",
    "        return self.__y\n",
    "    \n",
    "    def get_area(self):\n",
    "        return 3.14 * (self.__radius)**2 \n",
    "    \n",
    "    def get_perimeter(self):\n",
    "        return self.__radius * 3.14 * 2\n",
    "    \n",
    "circle = Circle(radius = 3, x=1, y=2)\n",
    "\n",
    "print(\"Radius:\", circle.get_radius())\n",
    "print(\"Area:\", circle.get_area())\n",
    "print(\"Perimeter:\", circle.get_perimeter())\n"
   ]
  },
  {
   "cell_type": "markdown",
   "metadata": {},
   "source": [
    "5. Implement a common base class for the classes implemented in 3 and 4 above which implements all common methods as not implemented functions (virtual). Re-implement your regtangle and circule classes to inherit from the base class and overload the functions accordingly. "
   ]
  },
  {
   "cell_type": "code",
   "execution_count": 27,
   "metadata": {},
   "outputs": [
    {
     "name": "stdout",
     "output_type": "stream",
     "text": [
      "Radius: 4\n",
      "Area of circle: 50.24\n",
      "Perimeter of circle: 25.12\n",
      "Area of rectangle: 15\n",
      "Perimeter of rectangle: 8\n"
     ]
    }
   ],
   "source": [
    "class Shapes:\n",
    "    def __init__(self, x, y):\n",
    "        self.x = x\n",
    "        self.y = y\n",
    "        \n",
    "    def get_x(self):\n",
    "        return self.x\n",
    "    def get_y(self):\n",
    "        return self.y    \n",
    "        \n",
    "class Circle(Shapes):\n",
    "    def __init__(self, radius,x, y):\n",
    "        super().__init__(x,y)\n",
    "        self.radius = radius\n",
    "        \n",
    "    def get_radius(self):\n",
    "        return self.radius\n",
    "    \n",
    "    def get_area(self):\n",
    "        return 3.14 * (self.radius)**2 \n",
    "    \n",
    "    def get_perimeter(self):\n",
    "        return self.radius * 3.14 * 2\n",
    "    \n",
    "class Rectangle(Shapes):\n",
    "    def __init__(self, length, width, x, y):\n",
    "        super().__init__(x,y)\n",
    "        self.length = length\n",
    "        self.width = width \n",
    "        \n",
    "    def get_length(self):\n",
    "        return self.length\n",
    "    \n",
    "    def get_width(self):\n",
    "        return self.width    \n",
    "       \n",
    "    def get_area(self):\n",
    "        return self.length * self.width\n",
    "    \n",
    "    def get_perimeter(self):\n",
    "        return self.length + self.width\n",
    "\n",
    "\n",
    "rectangle = Rectangle(length=5, width=3, x=0, y=0)\n",
    "circle = Circle(radius=4, x=0, y=0)\n",
    "\n",
    "print(\"Radius:\", circle.get_radius())\n",
    "print(\"Area of circle:\", circle.get_area())\n",
    "print(\"Perimeter of circle:\", circle.get_perimeter())\n",
    "print(\"Area of rectangle:\", rectangle.get_area())\n",
    "print(\"Perimeter of rectangle:\", rectangle.get_perimeter())\n",
    "    \n",
    "#####I am not sure if there is a way to hold perimeter and area calculations within the \"Shapes\" class, but that\n",
    "#####how I wanted to do it I can't figure out a way to"
   ]
  },
  {
   "cell_type": "markdown",
   "metadata": {},
   "source": [
    "6. Implement a triangle class analogous to the rectangle and circle in question 5."
   ]
  },
  {
   "cell_type": "code",
   "execution_count": 30,
   "metadata": {},
   "outputs": [
    {
     "name": "stdout",
     "output_type": "stream",
     "text": [
      "The length is 4\n",
      "The area is 3.0\n",
      "The perimeter is 12\n"
     ]
    }
   ],
   "source": [
    "class Shapes:\n",
    "    def __init__(self, x, y):\n",
    "        self.x = x\n",
    "        self.y = y\n",
    "        \n",
    "    def get_x(self):\n",
    "        return self.x\n",
    "    def get_y(self):\n",
    "        return self.y    \n",
    "        \n",
    "class Circle(Shapes):\n",
    "    def __init__(self, radius,x, y):\n",
    "        super().__init__(x,y)\n",
    "        self.radius = radius\n",
    "        \n",
    "    def get_radius(self):\n",
    "        return self.radius\n",
    "    \n",
    "    def get_area(self):\n",
    "        return 3.14 * (self.radius)**2 \n",
    "    \n",
    "    def get_perimeter(self):\n",
    "        return self.radius * 3.14 * 2\n",
    "    \n",
    "class Rectangle(Shapes):\n",
    "    def __init__(self, length, width, x, y):\n",
    "        super().__init__(x,y)\n",
    "        self.length = length\n",
    "        self.width = width \n",
    "        \n",
    "    def get_length(self):\n",
    "        return self.length\n",
    "    \n",
    "    def get_width(self):\n",
    "        return self.width    \n",
    "       \n",
    "    def get_area(self):\n",
    "        return self.length * self.width\n",
    "    \n",
    "    def get_perimeter(self):\n",
    "        return self.length + self.width\n",
    "    \n",
    "class Triangle(Shapes):\n",
    "    def __init__(self, height, base, length, x, y):\n",
    "        super().__init__(x,y)\n",
    "        self.height = height\n",
    "        self.base = base\n",
    "        self.length = length\n",
    "        \n",
    "    def get_length(self):\n",
    "        return self.length\n",
    "        \n",
    "    def get_height(self):\n",
    "        return self.height\n",
    "    \n",
    "    def get_base(self):\n",
    "        return self.base    \n",
    "       \n",
    "    def get_area(self):\n",
    "        return (self.height * self.base) / 2\n",
    "    \n",
    "    def get_perimeter(self):\n",
    "        return (self.length) * 3\n",
    "    \n",
    "triangle = Triangle(height = 2, base = 3, length = 4, x = 1, y= 2)\n",
    "    \n",
    "print(\"The length is\", triangle.get_length())\n",
    "print(\"The area is\", triangle.get_area())\n",
    "print(\"The perimeter is\", triangle.get_perimeter())"
   ]
  },
  {
   "cell_type": "markdown",
   "metadata": {},
   "source": [
    "7. Add a function to the object classes, including the base, that returns a list of up to 16 pairs of  $x$ and $y$ points on the parameter of the object. "
   ]
  },
  {
   "cell_type": "code",
   "execution_count": null,
   "metadata": {},
   "outputs": [],
   "source": [
    "class Shapes:\n",
    "    def __init__(self, x, y):\n",
    "        self.x = x\n",
    "        self.y = y\n",
    "        \n",
    "    def get_x(self):\n",
    "        return self.x\n",
    "    def get_y(self):\n",
    "        return self.y    \n",
    "    \n",
    "    def get_pairs_of_points(self):\n",
    "        return[(self.x, self.y)]\n",
    "        \n",
    "class Circle(Shapes):\n",
    "    def __init__(self, radius,x, y):\n",
    "        super().__init__(x,y)\n",
    "        self.radius = radius\n",
    "        \n",
    "    def get_radius(self):\n",
    "        return self.radius\n",
    "    \n",
    "    def get_area(self):\n",
    "        return 3.14 * (self.radius)**2 \n",
    "    \n",
    "    def get_perimeter(self):\n",
    "        return self.radius * 3.14 * 2\n",
    "    \n",
    "class Rectangle(Shapes):\n",
    "    def __init__(self, length, width, x, y):\n",
    "        super().__init__(x,y)\n",
    "        self.length = length\n",
    "        self.width = width \n",
    "        \n",
    "    def get_length(self):\n",
    "        return self.length\n",
    "    \n",
    "    def get_width(self):\n",
    "        return self.width    \n",
    "       \n",
    "    def get_area(self):\n",
    "        return self.length * self.width\n",
    "    \n",
    "    def get_perimeter(self):\n",
    "        return self.length + self.width\n",
    "    \n",
    "class Triangle(Shapes):\n",
    "    def __init__(self, height, base, length, x, y):\n",
    "        super().__init__(x,y)\n",
    "        self.height = height\n",
    "        self.base = base\n",
    "        self.length = length\n",
    "        \n",
    "    def get_length(self):\n",
    "        return self.length\n",
    "        \n",
    "    def get_height(self):\n",
    "        return self.height\n",
    "    \n",
    "    def get_base(self):\n",
    "        return self.base    \n",
    "       \n",
    "    def get_area(self):\n",
    "        return (self.height * self.base) / 2\n",
    "    \n",
    "    def get_perimeter(self):\n",
    "        return (self.length) * 3"
   ]
  },
  {
   "cell_type": "markdown",
   "metadata": {},
   "source": [
    "8. Add a function to the object classes, including the base, that tests if a given set of $x$ and $y$ coordinates are inside of the object. You'll have to think through how to determine if a set of coordinates are inside an object for each object type."
   ]
  },
  {
   "cell_type": "code",
   "execution_count": null,
   "metadata": {},
   "outputs": [],
   "source": []
  },
  {
   "cell_type": "markdown",
   "metadata": {},
   "source": [
    "9. Add a function in the base class of the object classes that returns true/false testing that the object overlaps with another object."
   ]
  },
  {
   "cell_type": "code",
   "execution_count": null,
   "metadata": {},
   "outputs": [],
   "source": []
  },
  {
   "cell_type": "markdown",
   "metadata": {},
   "source": [
    "10. Copy the `Canvas` class from lecture to in a python file creating a `paint` module. Copy your classes from above into the module and implement paint functions. Implement a `CompoundShape` class. Create a simple drawing demonstrating that all of your classes are working."
   ]
  },
  {
   "cell_type": "code",
   "execution_count": null,
   "metadata": {},
   "outputs": [],
   "source": []
  },
  {
   "cell_type": "markdown",
   "metadata": {},
   "source": [
    "11. Create a `RasterDrawing` class. Demonstrate that you can create a drawing made of several shapes, paint the drawing, modify the drawing, and paint it again. "
   ]
  },
  {
   "cell_type": "code",
   "execution_count": null,
   "metadata": {},
   "outputs": [],
   "source": []
  },
  {
   "cell_type": "markdown",
   "metadata": {},
   "source": [
    "12. Implement the ability to load/save raster drawings and demonstate that your method works. One way to implement this ability:\n",
    "\n",
    "   * Overload `__repr__` functions of all objects to return strings of the python code that would construct the object.\n",
    "   \n",
    "   * In the save method of raster drawing class, store the representations into the file.\n",
    "   * Write a loader function that reads the file and uses `eval` to instantiate the object.\n",
    "\n",
    "For example:"
   ]
  },
  {
   "cell_type": "code",
   "execution_count": 31,
   "metadata": {},
   "outputs": [],
   "source": [
    "class foo:\n",
    "    def __init__(self,a,b=None):\n",
    "        self.a=a\n",
    "        self.b=b\n",
    "        \n",
    "    def __repr__(self):\n",
    "        return \"foo(\"+repr(self.a)+\",\"+repr(self.b)+\")\"\n",
    "    \n",
    "    def save(self,filename):\n",
    "        f=open(filename,\"w\")\n",
    "        f.write(self.__repr__())\n",
    "        f.close()\n",
    "        \n",
    "   \n",
    "def foo_loader(filename):\n",
    "    f=open(filename,\"r\")\n",
    "    tmp=eval(f.read())\n",
    "    f.close()\n",
    "    return tmp\n"
   ]
  },
  {
   "cell_type": "code",
   "execution_count": 32,
   "metadata": {},
   "outputs": [
    {
     "name": "stdout",
     "output_type": "stream",
     "text": [
      "foo(1,'hello')\n"
     ]
    }
   ],
   "source": [
    "# Test\n",
    "print(repr(foo(1,\"hello\")))"
   ]
  },
  {
   "cell_type": "code",
   "execution_count": 33,
   "metadata": {},
   "outputs": [],
   "source": [
    "# Create an object and save it\n",
    "ff=foo(1,\"hello\")\n",
    "ff.save(\"Test.foo\")"
   ]
  },
  {
   "cell_type": "code",
   "execution_count": 34,
   "metadata": {},
   "outputs": [
    {
     "name": "stdout",
     "output_type": "stream",
     "text": [
      "foo(1,'hello')"
     ]
    }
   ],
   "source": [
    "# Check contents of the saved file\n",
    "!cat Test.foo"
   ]
  },
  {
   "cell_type": "code",
   "execution_count": 35,
   "metadata": {},
   "outputs": [
    {
     "data": {
      "text/plain": [
       "foo(1,'hello')"
      ]
     },
     "execution_count": 35,
     "metadata": {},
     "output_type": "execute_result"
    }
   ],
   "source": [
    "# Load the object\n",
    "ff_reloaded=foo_loader(\"Test.foo\")\n",
    "ff_reloaded"
   ]
  },
  {
   "cell_type": "code",
   "execution_count": null,
   "metadata": {},
   "outputs": [],
   "source": []
  },
  {
   "cell_type": "code",
   "execution_count": null,
   "metadata": {},
   "outputs": [],
   "source": []
  }
 ],
 "metadata": {
  "kernelspec": {
   "display_name": "Python 3 (ipykernel)",
   "language": "python",
   "name": "python3"
  },
  "language_info": {
   "codemirror_mode": {
    "name": "ipython",
    "version": 3
   },
   "file_extension": ".py",
   "mimetype": "text/x-python",
   "name": "python",
   "nbconvert_exporter": "python",
   "pygments_lexer": "ipython3",
   "version": "3.11.4"
  }
 },
 "nbformat": 4,
 "nbformat_minor": 2
}
